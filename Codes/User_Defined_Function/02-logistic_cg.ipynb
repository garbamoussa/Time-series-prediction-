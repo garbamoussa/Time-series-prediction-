{
 "cells": [
  {
   "cell_type": "markdown",
   "metadata": {},
   "source": [
    "# Conjugate Gradient for logistic regression\n",
    "\n",
    "Author: Alexandre Gramfort"
   ]
  },
  {
   "cell_type": "code",
   "execution_count": 12,
   "metadata": {},
   "outputs": [],
   "source": [
    "%matplotlib inline\n",
    "import math\n",
    "import numpy as np\n",
    "import matplotlib.pyplot as plt\n",
    "from scipy.optimize import fmin_cg"
   ]
  },
  {
   "cell_type": "code",
   "execution_count": 13,
   "metadata": {},
   "outputs": [
    {
     "data": {
      "text/plain": [
       "\u001b[1;31mSignature:\u001b[0m \u001b[0mfmin_cg\u001b[0m\u001b[1;33m(\u001b[0m\u001b[0mf\u001b[0m\u001b[1;33m,\u001b[0m \u001b[0mx0\u001b[0m\u001b[1;33m,\u001b[0m \u001b[0mfprime\u001b[0m\u001b[1;33m=\u001b[0m\u001b[1;32mNone\u001b[0m\u001b[1;33m,\u001b[0m \u001b[0margs\u001b[0m\u001b[1;33m=\u001b[0m\u001b[1;33m(\u001b[0m\u001b[1;33m)\u001b[0m\u001b[1;33m,\u001b[0m \u001b[0mgtol\u001b[0m\u001b[1;33m=\u001b[0m\u001b[1;36m1e-05\u001b[0m\u001b[1;33m,\u001b[0m \u001b[0mnorm\u001b[0m\u001b[1;33m=\u001b[0m\u001b[0minf\u001b[0m\u001b[1;33m,\u001b[0m \u001b[0mepsilon\u001b[0m\u001b[1;33m=\u001b[0m\u001b[1;36m1.4901161193847656e-08\u001b[0m\u001b[1;33m,\u001b[0m \u001b[0mmaxiter\u001b[0m\u001b[1;33m=\u001b[0m\u001b[1;32mNone\u001b[0m\u001b[1;33m,\u001b[0m \u001b[0mfull_output\u001b[0m\u001b[1;33m=\u001b[0m\u001b[1;36m0\u001b[0m\u001b[1;33m,\u001b[0m \u001b[0mdisp\u001b[0m\u001b[1;33m=\u001b[0m\u001b[1;36m1\u001b[0m\u001b[1;33m,\u001b[0m \u001b[0mretall\u001b[0m\u001b[1;33m=\u001b[0m\u001b[1;36m0\u001b[0m\u001b[1;33m,\u001b[0m \u001b[0mcallback\u001b[0m\u001b[1;33m=\u001b[0m\u001b[1;32mNone\u001b[0m\u001b[1;33m)\u001b[0m\u001b[1;33m\u001b[0m\u001b[0m\n",
       "\u001b[1;31mDocstring:\u001b[0m\n",
       "Minimize a function using a nonlinear conjugate gradient algorithm.\n",
       "\n",
       "Parameters\n",
       "----------\n",
       "f : callable, ``f(x, *args)``\n",
       "    Objective function to be minimized.  Here `x` must be a 1-D array of\n",
       "    the variables that are to be changed in the search for a minimum, and\n",
       "    `args` are the other (fixed) parameters of `f`.\n",
       "x0 : ndarray\n",
       "    A user-supplied initial estimate of `xopt`, the optimal value of `x`.\n",
       "    It must be a 1-D array of values.\n",
       "fprime : callable, ``fprime(x, *args)``, optional\n",
       "    A function that returns the gradient of `f` at `x`. Here `x` and `args`\n",
       "    are as described above for `f`. The returned value must be a 1-D array.\n",
       "    Defaults to None, in which case the gradient is approximated\n",
       "    numerically (see `epsilon`, below).\n",
       "args : tuple, optional\n",
       "    Parameter values passed to `f` and `fprime`. Must be supplied whenever\n",
       "    additional fixed parameters are needed to completely specify the\n",
       "    functions `f` and `fprime`.\n",
       "gtol : float, optional\n",
       "    Stop when the norm of the gradient is less than `gtol`.\n",
       "norm : float, optional\n",
       "    Order to use for the norm of the gradient\n",
       "    (``-np.Inf`` is min, ``np.Inf`` is max).\n",
       "epsilon : float or ndarray, optional\n",
       "    Step size(s) to use when `fprime` is approximated numerically. Can be a\n",
       "    scalar or a 1-D array.  Defaults to ``sqrt(eps)``, with eps the\n",
       "    floating point machine precision.  Usually ``sqrt(eps)`` is about\n",
       "    1.5e-8.\n",
       "maxiter : int, optional\n",
       "    Maximum number of iterations to perform. Default is ``200 * len(x0)``.\n",
       "full_output : bool, optional\n",
       "    If True, return `fopt`, `func_calls`, `grad_calls`, and `warnflag` in\n",
       "    addition to `xopt`.  See the Returns section below for additional\n",
       "    information on optional return values.\n",
       "disp : bool, optional\n",
       "    If True, return a convergence message, followed by `xopt`.\n",
       "retall : bool, optional\n",
       "    If True, add to the returned values the results of each iteration.\n",
       "callback : callable, optional\n",
       "    An optional user-supplied function, called after each iteration.\n",
       "    Called as ``callback(xk)``, where ``xk`` is the current value of `x0`.\n",
       "\n",
       "Returns\n",
       "-------\n",
       "xopt : ndarray\n",
       "    Parameters which minimize f, i.e. ``f(xopt) == fopt``.\n",
       "fopt : float, optional\n",
       "    Minimum value found, f(xopt).  Only returned if `full_output` is True.\n",
       "func_calls : int, optional\n",
       "    The number of function_calls made.  Only returned if `full_output`\n",
       "    is True.\n",
       "grad_calls : int, optional\n",
       "    The number of gradient calls made. Only returned if `full_output` is\n",
       "    True.\n",
       "warnflag : int, optional\n",
       "    Integer value with warning status, only returned if `full_output` is\n",
       "    True.\n",
       "\n",
       "    0 : Success.\n",
       "\n",
       "    1 : The maximum number of iterations was exceeded.\n",
       "\n",
       "    2 : Gradient and/or function calls were not changing.  May indicate\n",
       "        that precision was lost, i.e., the routine did not converge.\n",
       "\n",
       "allvecs : list of ndarray, optional\n",
       "    List of arrays, containing the results at each iteration.\n",
       "    Only returned if `retall` is True.\n",
       "\n",
       "See Also\n",
       "--------\n",
       "minimize : common interface to all `scipy.optimize` algorithms for\n",
       "           unconstrained and constrained minimization of multivariate\n",
       "           functions.  It provides an alternative way to call\n",
       "           ``fmin_cg``, by specifying ``method='CG'``.\n",
       "\n",
       "Notes\n",
       "-----\n",
       "This conjugate gradient algorithm is based on that of Polak and Ribiere\n",
       "[1]_.\n",
       "\n",
       "Conjugate gradient methods tend to work better when:\n",
       "\n",
       "1. `f` has a unique global minimizing point, and no local minima or\n",
       "   other stationary points,\n",
       "2. `f` is, at least locally, reasonably well approximated by a\n",
       "   quadratic function of the variables,\n",
       "3. `f` is continuous and has a continuous gradient,\n",
       "4. `fprime` is not too large, e.g., has a norm less than 1000,\n",
       "5. The initial guess, `x0`, is reasonably close to `f` 's global\n",
       "   minimizing point, `xopt`.\n",
       "\n",
       "References\n",
       "----------\n",
       ".. [1] Wright & Nocedal, \"Numerical Optimization\", 1999, pp. 120-122.\n",
       "\n",
       "Examples\n",
       "--------\n",
       "Example 1: seek the minimum value of the expression\n",
       "``a*u**2 + b*u*v + c*v**2 + d*u + e*v + f`` for given values\n",
       "of the parameters and an initial guess ``(u, v) = (0, 0)``.\n",
       "\n",
       ">>> args = (2, 3, 7, 8, 9, 10)  # parameter values\n",
       ">>> def f(x, *args):\n",
       "...     u, v = x\n",
       "...     a, b, c, d, e, f = args\n",
       "...     return a*u**2 + b*u*v + c*v**2 + d*u + e*v + f\n",
       ">>> def gradf(x, *args):\n",
       "...     u, v = x\n",
       "...     a, b, c, d, e, f = args\n",
       "...     gu = 2*a*u + b*v + d     # u-component of the gradient\n",
       "...     gv = b*u + 2*c*v + e     # v-component of the gradient\n",
       "...     return np.asarray((gu, gv))\n",
       ">>> x0 = np.asarray((0, 0))  # Initial guess.\n",
       ">>> from scipy import optimize\n",
       ">>> res1 = optimize.fmin_cg(f, x0, fprime=gradf, args=args)\n",
       "Optimization terminated successfully.\n",
       "         Current function value: 1.617021\n",
       "         Iterations: 4\n",
       "         Function evaluations: 8\n",
       "         Gradient evaluations: 8\n",
       ">>> res1\n",
       "array([-1.80851064, -0.25531915])\n",
       "\n",
       "Example 2: solve the same problem using the `minimize` function.\n",
       "(This `myopts` dictionary shows all of the available options,\n",
       "although in practice only non-default values would be needed.\n",
       "The returned value will be a dictionary.)\n",
       "\n",
       ">>> opts = {'maxiter' : None,    # default value.\n",
       "...         'disp' : True,    # non-default value.\n",
       "...         'gtol' : 1e-5,    # default value.\n",
       "...         'norm' : np.inf,  # default value.\n",
       "...         'eps' : 1.4901161193847656e-08}  # default value.\n",
       ">>> res2 = optimize.minimize(f, x0, jac=gradf, args=args,\n",
       "...                          method='CG', options=opts)\n",
       "Optimization terminated successfully.\n",
       "        Current function value: 1.617021\n",
       "        Iterations: 4\n",
       "        Function evaluations: 8\n",
       "        Gradient evaluations: 8\n",
       ">>> res2.x  # minimum found\n",
       "array([-1.80851064, -0.25531915])\n",
       "\u001b[1;31mFile:\u001b[0m      c:\\users\\oustyle\\anaconda3\\lib\\site-packages\\scipy\\optimize\\optimize.py\n",
       "\u001b[1;31mType:\u001b[0m      function\n"
      ]
     },
     "metadata": {},
     "output_type": "display_data"
    }
   ],
   "source": [
    "fmin_cg?"
   ]
  },
  {
   "cell_type": "code",
   "execution_count": 4,
   "metadata": {},
   "outputs": [],
   "source": [
    "from sklearn import datasets\n",
    "\n",
    "iris = datasets.load_iris()\n",
    "X = iris.data[:, :2]\n",
    "y = iris.target\n",
    "\n",
    "# Make it binary\n",
    "X = X[y < 2]\n",
    "y = y[y < 2]\n",
    "\n",
    "# add intercept column of ones - \n",
    "X = np.concatenate((X, np.ones((X.shape[0], 1))), axis=1)\n",
    "\n",
    "y[y == 0] = -1"
   ]
  },
  {
   "cell_type": "code",
   "execution_count": 5,
   "metadata": {},
   "outputs": [
    {
     "data": {
      "text/plain": [
       "array([-1, -1, -1, -1, -1, -1, -1, -1, -1, -1, -1, -1, -1, -1, -1, -1, -1,\n",
       "       -1, -1, -1, -1, -1, -1, -1, -1, -1, -1, -1, -1, -1, -1, -1, -1, -1,\n",
       "       -1, -1, -1, -1, -1, -1, -1, -1, -1, -1, -1, -1, -1, -1, -1, -1,  1,\n",
       "        1,  1,  1,  1,  1,  1,  1,  1,  1,  1,  1,  1,  1,  1,  1,  1,  1,\n",
       "        1,  1,  1,  1,  1,  1,  1,  1,  1,  1,  1,  1,  1,  1,  1,  1,  1,\n",
       "        1,  1,  1,  1,  1,  1,  1,  1,  1,  1,  1,  1,  1,  1,  1])"
      ]
     },
     "execution_count": 5,
     "metadata": {},
     "output_type": "execute_result"
    }
   ],
   "source": [
    "y"
   ]
  },
  {
   "cell_type": "code",
   "execution_count": 6,
   "metadata": {},
   "outputs": [
    {
     "data": {
      "text/plain": [
       "<matplotlib.collections.PathCollection at 0x20c15081d68>"
      ]
     },
     "execution_count": 6,
     "metadata": {},
     "output_type": "execute_result"
    },
    {
     "data": {
      "image/png": "[encoded data removed]",
      "text/plain": [
       "<Figure size 432x288 with 1 Axes>"
      ]
     },
     "metadata": {
      "needs_background": "light"
     },
     "output_type": "display_data"
    }
   ],
   "source": [
    "plt.scatter(X[y > 0, 0], X[y > 0, 1], color='r')\n",
    "plt.scatter(X[y < 0, 0], X[y < 0, 1], color='g')"
   ]
  },
  {
   "cell_type": "code",
   "execution_count": 7,
   "metadata": {},
   "outputs": [],
   "source": [
    "all_pobj = []\n",
    "\n",
    "def f(w):\n",
    "    pobj = np.sum(np.log(1. + np.exp(- y * np.dot(X, w))))\n",
    "    all_pobj.append(pobj)\n",
    "    return pobj\n",
    "\n",
    "def fprime(w):\n",
    "    ywTx = y * np.dot(X, w)\n",
    "    temp = 1. / (1. + np.exp(ywTx))\n",
    "    grad = -np.dot(X.T, (y * temp))\n",
    "    return grad"
   ]
  },
  {
   "cell_type": "code",
   "execution_count": 8,
   "metadata": {},
   "outputs": [
    {
     "name": "stdout",
     "output_type": "stream",
     "text": [
      "Optimization terminated successfully.\n",
      "         Current function value: 0.000009\n",
      "         Iterations: 50\n",
      "         Function evaluations: 198\n",
      "         Gradient evaluations: 198\n"
     ]
    }
   ],
   "source": [
    "alpha = 0.01\n",
    "n_features = X.shape[1]\n",
    "w = fmin_cg(f, np.zeros(n_features), fprime)"
   ]
  },
  {
   "cell_type": "code",
   "execution_count": 9,
   "metadata": {},
   "outputs": [
    {
     "data": {
      "text/plain": [
       "array([0., 0., 0., 0., 0., 0., 0., 0., 0., 0., 0., 0., 0., 0., 0., 0., 0.,\n",
       "       0., 0., 0., 0., 0., 0., 0., 0., 0., 0., 0., 0., 0., 0., 0., 0., 0.,\n",
       "       0., 0., 0., 0., 0., 0., 0., 0., 0., 0., 0., 0., 0., 0., 0., 0., 0.,\n",
       "       0., 0., 0., 0., 0., 0., 0., 0., 0., 0., 0., 0., 0., 0., 0., 0., 0.,\n",
       "       0., 0., 0., 0., 0., 0., 0., 0., 0., 0., 0., 0., 0., 0., 0., 0., 0.,\n",
       "       0., 0., 0., 0., 0., 0., 0., 0., 0., 0., 0., 0., 0., 0., 0.])"
      ]
     },
     "execution_count": 9,
     "metadata": {},
     "output_type": "execute_result"
    }
   ],
   "source": [
    "np.sign(np.dot(X, w)) - y"
   ]
  },
  {
   "cell_type": "code",
   "execution_count": 10,
   "metadata": {},
   "outputs": [
    {
     "data": {
      "image/png": "[encoded data removed]",
      "text/plain": [
       "<Figure size 432x288 with 1 Axes>"
      ]
     },
     "metadata": {
      "needs_background": "light"
     },
     "output_type": "display_data"
    }
   ],
   "source": [
    "plt.plot(np.log10(all_pobj), 'r')\n",
    "plt.xlabel('Iterations')\n",
    "plt.ylabel('Objective')\n",
    "plt.show()"
   ]
  },
  {
   "cell_type": "code",
   "execution_count": 11,
   "metadata": {},
   "outputs": [
    {
     "data": {
      "image/png": "[encoded data removed]",
      "text/plain": [
       "<Figure size 432x288 with 1 Axes>"
      ]
     },
     "metadata": {
      "needs_background": "light"
     },
     "output_type": "display_data"
    }
   ],
   "source": [
    "plt.scatter(X[y > 0, 0], X[y > 0, 1], color='r')\n",
    "plt.scatter(X[y < 0, 0], X[y < 0, 1], color='g')\n",
    "xx = np.linspace(4, 8, 10)\n",
    "plt.plot(xx,  - xx * w[0] / w[1] - w[2] / w[1], 'k');"
   ]
  },
  {
   "cell_type": "markdown",
   "metadata": {},
   "source": [
    "### Question : add support for intercept (be careful unregularised)"
   ]
  }
 ],
 "metadata": {
  "kernelspec": {
   "display_name": "Python 3",
   "language": "python",
   "name": "python3"
  },
  "language_info": {
   "codemirror_mode": {
    "name": "ipython",
    "version": 3
   },
   "file_extension": ".py",
   "mimetype": "text/x-python",
   "name": "python",
   "nbconvert_exporter": "python",
   "pygments_lexer": "ipython3",
   "version": "3.7.0"
  },
  "widgets": {
   "state": {},
   "version": "1.1.2"
  }
 },
 "nbformat": 4,
 "nbformat_minor": 2
}
